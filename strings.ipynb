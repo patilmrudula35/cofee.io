{
 "cells": [
  {
   "cell_type": "markdown",
   "id": "95e19965",
   "metadata": {},
   "source": [
    "## Write a Python program to calculate the length of a string"
   ]
  },
  {
   "cell_type": "code",
   "execution_count": 2,
   "id": "01739372",
   "metadata": {},
   "outputs": [
    {
     "name": "stdout",
     "output_type": "stream",
     "text": [
      "5\n"
     ]
    }
   ],
   "source": [
    "string = \"Hello\"\n",
    "\n",
    "print(len(string))"
   ]
  },
  {
   "cell_type": "markdown",
   "id": "2cbb910c",
   "metadata": {},
   "source": [
    "## Write a Python program to count the number of characters (character frequency) in a string.\n"
   ]
  },
  {
   "cell_type": "code",
   "execution_count": 5,
   "id": "4ec29219",
   "metadata": {},
   "outputs": [
    {
     "name": "stdout",
     "output_type": "stream",
     "text": [
      "{'a': 2, 's': 3, 'q': 1, 'e': 2, 'g': 2, 'h': 2, 'd': 1, 'i': 1}\n"
     ]
    }
   ],
   "source": [
    "string = 'aassqeesghhdgi'\n",
    "\n",
    "dic = {}\n",
    "\n",
    "for i in string:\n",
    "    keys = dic.keys()\n",
    "    if i in keys:\n",
    "        dic[i] += 1\n",
    "    else:\n",
    "        dic[i] = 1\n",
    "\n",
    "print(dic)"
   ]
  },
  {
   "cell_type": "markdown",
   "id": "e031000e",
   "metadata": {},
   "source": [
    "Write a Python program to get a string from a given string where all occurrences of its first char have been changed to '$', except the first char itself.\n"
   ]
  },
  {
   "cell_type": "code",
   "execution_count": 9,
   "id": "24eb9d53",
   "metadata": {},
   "outputs": [
    {
     "name": "stdout",
     "output_type": "stream",
     "text": [
      "afgd$dg$dg\n"
     ]
    }
   ],
   "source": [
    "string = 'afgdadgadg'\n",
    "\n",
    "char = string[0]\n",
    "string = string.replace(char, '$')\n",
    "string = char + string[1:]\n",
    "\n",
    "print(string)"
   ]
  },
  {
   "cell_type": "markdown",
   "id": "3a72ee77",
   "metadata": {},
   "source": [
    "## Write a Python program to add 'ing' at the end of a given string (length should be at least 3). If the given string already ends with 'ing' then add 'ly' instead. If the string length of the given string is less than 3, leave it unchanged."
   ]
  },
  {
   "cell_type": "code",
   "execution_count": 10,
   "id": "822c1a0b",
   "metadata": {},
   "outputs": [
    {
     "name": "stdout",
     "output_type": "stream",
     "text": [
      "ab\n",
      "runing\n",
      "flyingly\n"
     ]
    }
   ],
   "source": [
    "def add_string(str1):\n",
    "    length = len(str1)\n",
    "\n",
    "    if length > 2:\n",
    "        if str1[-3:] == 'ing':\n",
    "            str1 += 'ly'\n",
    "        else:\n",
    "            str1 += 'ing'\n",
    "\n",
    "    return str1\n",
    "\n",
    "print(add_string('ab'))\n",
    "print(add_string('run'))\n",
    "print(add_string('flying'))\n"
   ]
  },
  {
   "cell_type": "markdown",
   "id": "4843a6a8",
   "metadata": {},
   "source": [
    "## Write a Python function that takes a list of words and returns the length of the longest one.\n"
   ]
  },
  {
   "cell_type": "code",
   "execution_count": 12,
   "id": "2292f85e",
   "metadata": {},
   "outputs": [
    {
     "name": "stdout",
     "output_type": "stream",
     "text": [
      "\n",
      "Longest word: Machine Learning\n",
      "Length of the longest word: 16\n"
     ]
    }
   ],
   "source": [
    "def find_longest_word(words_list):\n",
    "    word_len = []\n",
    "    for n in words_list:\n",
    "        word_len.append((len(n), n))\n",
    "    word_len.sort()\n",
    "    return word_len[-1][0], word_len[-1][1]\n",
    "result = find_longest_word([\"Python\", \"Data Science\", \"Machine Learning\"])\n",
    "\n",
    "print(\"\\nLongest word:\",result[1])\n",
    "print(\"Length of the longest word:\",result[0])\n"
   ]
  },
  {
   "cell_type": "markdown",
   "id": "9647c907",
   "metadata": {},
   "source": [
    "## Write a Python script that takes input from the user and displays that input back in upper and lower cases."
   ]
  },
  {
   "cell_type": "code",
   "execution_count": 13,
   "id": "a3c267ef",
   "metadata": {},
   "outputs": [
    {
     "name": "stdout",
     "output_type": "stream",
     "text": [
      "Enter the string: HEllo\n",
      "hello\n",
      "HELLO\n"
     ]
    }
   ],
   "source": [
    "string = input(\"Enter the string: \")\n",
    "\n",
    "print(string.lower())\n",
    "print(string.upper())"
   ]
  },
  {
   "cell_type": "markdown",
   "id": "aa651c17",
   "metadata": {},
   "source": [
    "## Write a Python program that accepts a comma separated sequence of words as input and prints the unique words in sorted form (alphanumerically)."
   ]
  },
  {
   "cell_type": "code",
   "execution_count": 17,
   "id": "66feb24c",
   "metadata": {},
   "outputs": [
    {
     "name": "stdout",
     "output_type": "stream",
     "text": [
      "tiger, lion, cheetah, tiger\n",
      "['cheetah', 'lion', 'tiger']\n"
     ]
    }
   ],
   "source": [
    "sequence = input().split(', ')\n",
    "\n",
    "print(sorted(list(set(sequence))))"
   ]
  },
  {
   "cell_type": "markdown",
   "id": "c6bf9273",
   "metadata": {},
   "source": [
    "## Write a Python program to display formatted text (width=50) as output"
   ]
  },
  {
   "cell_type": "code",
   "execution_count": 20,
   "id": "72e575f5",
   "metadata": {},
   "outputs": [
    {
     "name": "stdout",
     "output_type": "stream",
     "text": [
      "\n",
      "   Lorem Ipsum is simply dummy text of the\n",
      "printing and typesetting industry. Lorem Ipsum has\n",
      "been the industry's standard dummy text ever since\n",
      "the 1500s, when an unknown printer took a galley\n",
      "of type and scrambled it to make a type specimen\n",
      "book. It has survived not only five centuries, but\n",
      "also the leap into electronic typesetting,\n",
      "remaining essentially unchanged. It was\n",
      "popularised in the 1960s with the release of\n",
      "Letraset sheets containing Lorem Ipsum passages,\n",
      "and more recently with desktop publishing software\n",
      "like Aldus PageMaker including versions of Lorem\n",
      "Ipsum..\n",
      "\n"
     ]
    }
   ],
   "source": [
    "import textwrap\n",
    "sample_text = '''\n",
    "  Lorem Ipsum is simply dummy text of the printing and typesetting industry. Lorem Ipsum has been the industry's standard dummy text ever since the 1500s, when an unknown printer took a galley of type and scrambled it to make a type specimen book. It has survived not only five centuries, but also the leap into electronic typesetting, remaining essentially unchanged. It was popularised in the 1960s with the release of Letraset sheets containing Lorem Ipsum passages, and more recently with desktop publishing software like Aldus PageMaker including versions of Lorem Ipsum..\n",
    "  '''\n",
    "print()\n",
    "print(textwrap.fill(sample_text, width=50))\n",
    "print()\n"
   ]
  },
  {
   "cell_type": "markdown",
   "id": "843ca6fa",
   "metadata": {},
   "source": [
    "##  Write a Python program to count occurrences of a substring in a string."
   ]
  },
  {
   "cell_type": "code",
   "execution_count": 22,
   "id": "f69e91f1",
   "metadata": {},
   "outputs": [
    {
     "name": "stdout",
     "output_type": "stream",
     "text": [
      "2\n"
     ]
    }
   ],
   "source": [
    "string = \"This is a dummy string use for dummy purpose\"\n",
    "\n",
    "print(string.count(\"dummy\"))"
   ]
  },
  {
   "cell_type": "markdown",
   "id": "7e90401c",
   "metadata": {},
   "source": [
    "## Write a Python program to reverse a string."
   ]
  },
  {
   "cell_type": "code",
   "execution_count": 25,
   "id": "293f2709",
   "metadata": {},
   "outputs": [
    {
     "name": "stdout",
     "output_type": "stream",
     "text": [
      "gnirts\n"
     ]
    }
   ],
   "source": [
    "string = \"\".join(reversed('string'))\n",
    "print(string)"
   ]
  },
  {
   "cell_type": "markdown",
   "id": "9de9f733",
   "metadata": {},
   "source": [
    "## Write a Python program to lowercase first n characters in a string."
   ]
  },
  {
   "cell_type": "code",
   "execution_count": 26,
   "id": "f4646040",
   "metadata": {},
   "outputs": [
    {
     "name": "stdout",
     "output_type": "stream",
     "text": [
      "abcDEFGHIJK\n"
     ]
    }
   ],
   "source": [
    "string = 'ABCDEFGHIJK'\n",
    "\n",
    "print(string[:3].lower() + string[3:])"
   ]
  }
 ],
 "metadata": {
  "kernelspec": {
   "display_name": "Python 3 (ipykernel)",
   "language": "python",
   "name": "python3"
  },
  "language_info": {
   "codemirror_mode": {
    "name": "ipython",
    "version": 3
   },
   "file_extension": ".py",
   "mimetype": "text/x-python",
   "name": "python",
   "nbconvert_exporter": "python",
   "pygments_lexer": "ipython3",
   "version": "3.8.12"
  }
 },
 "nbformat": 4,
 "nbformat_minor": 5
}
