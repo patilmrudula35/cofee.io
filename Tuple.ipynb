{
 "cells": [
  {
   "cell_type": "markdown",
   "id": "ad13274f",
   "metadata": {},
   "source": [
    "## Write a Python program to create a tuple"
   ]
  },
  {
   "cell_type": "code",
   "execution_count": 1,
   "id": "0a0678b8",
   "metadata": {},
   "outputs": [
    {
     "name": "stdout",
     "output_type": "stream",
     "text": [
      "(1, 2, 3, 4, 5)\n"
     ]
    }
   ],
   "source": [
    "tup = (1, 2, 3, 4, 5)\n",
    "\n",
    "print(tup)"
   ]
  },
  {
   "cell_type": "markdown",
   "id": "d0999098",
   "metadata": {},
   "source": [
    "## Write a Python program to create a tuple with different data types.\n"
   ]
  },
  {
   "cell_type": "code",
   "execution_count": 2,
   "id": "5078a7b9",
   "metadata": {},
   "outputs": [
    {
     "name": "stdout",
     "output_type": "stream",
     "text": [
      "(1, True, 'abc', 9.54)\n"
     ]
    }
   ],
   "source": [
    "tup1 = (1, True, \"abc\", 9.54)\n",
    "\n",
    "print(tup1)"
   ]
  },
  {
   "cell_type": "markdown",
   "id": "388e3690",
   "metadata": {},
   "source": [
    "## Write a Python program to unpack a tuple in several variables."
   ]
  },
  {
   "cell_type": "code",
   "execution_count": 4,
   "id": "3d2a6466",
   "metadata": {},
   "outputs": [
    {
     "name": "stdout",
     "output_type": "stream",
     "text": [
      "(1, 2, 3, 4)\n",
      "1 2 3 4\n"
     ]
    }
   ],
   "source": [
    "tup2 = (1, 2, 3, 4)\n",
    "\n",
    "print(tup2)\n",
    "t1, t2, t3, t4 = tup2\n",
    "\n",
    "print(t1, t2, t3, t4)"
   ]
  },
  {
   "cell_type": "markdown",
   "id": "9c375229",
   "metadata": {},
   "source": [
    "## Write a Python program to create the colon of a tuple.\n"
   ]
  },
  {
   "cell_type": "code",
   "execution_count": null,
   "id": "12ab9222",
   "metadata": {},
   "outputs": [],
   "source": []
  },
  {
   "cell_type": "markdown",
   "id": "07f79f37",
   "metadata": {},
   "source": [
    "## Write a Python program to find the repeated items of a tuple."
   ]
  },
  {
   "cell_type": "code",
   "execution_count": 10,
   "id": "6cd95846",
   "metadata": {},
   "outputs": [
    {
     "name": "stdout",
     "output_type": "stream",
     "text": [
      "{3, 4}\n"
     ]
    }
   ],
   "source": [
    "s = set()\n",
    "tup3 = (1, 2, 3, 3, 4, 4, 4, 5, 6, 7)  \n",
    "for i in tup3:\n",
    "    if tup3.count(i) > 1:\n",
    "        s.add(i)\n",
    "        \n",
    "print(s)"
   ]
  },
  {
   "cell_type": "markdown",
   "id": "d4f82310",
   "metadata": {},
   "source": [
    "## Write a Python program to check whether an element exists within a tuple.\n"
   ]
  },
  {
   "cell_type": "code",
   "execution_count": 11,
   "id": "a2a76332",
   "metadata": {},
   "outputs": [
    {
     "name": "stdout",
     "output_type": "stream",
     "text": [
      "False\n",
      "True\n"
     ]
    }
   ],
   "source": [
    "print(9 in tup3)\n",
    "print(2 in tup3)"
   ]
  },
  {
   "cell_type": "markdown",
   "id": "b5fa2923",
   "metadata": {},
   "source": [
    "## Write a Python program to convert a list to a tuple."
   ]
  },
  {
   "cell_type": "code",
   "execution_count": 21,
   "id": "fa7a3d28",
   "metadata": {},
   "outputs": [
    {
     "name": "stdout",
     "output_type": "stream",
     "text": [
      "<class 'tuple'>\n",
      "(1, 2, 3, 4, 5)\n"
     ]
    }
   ],
   "source": [
    "list1 = [1, 2, 3, 4, 5]\n",
    "\n",
    "tup4 = tuple(list1)\n",
    "\n",
    "print(type(tup4))\n",
    "print(tup4)"
   ]
  },
  {
   "cell_type": "markdown",
   "id": "0cf0ffaf",
   "metadata": {},
   "source": [
    "## Write a Python program to remove an item from a tuple.\n"
   ]
  },
  {
   "cell_type": "code",
   "execution_count": null,
   "id": "bbc4bbea",
   "metadata": {},
   "outputs": [],
   "source": [
    "tup5 = (11, 22, 33, 44, 55, 66, 77)\n",
    "\n",
    "ls = list(tup5)\n",
    "ls.remove(44)\n",
    "\n",
    "tup5 = tuple(ls)\n",
    "print(tup5)"
   ]
  },
  {
   "cell_type": "markdown",
   "id": "72ecff44",
   "metadata": {},
   "source": [
    "##  Write a Python program to slice a tuple"
   ]
  },
  {
   "cell_type": "code",
   "execution_count": null,
   "id": "06d422d9",
   "metadata": {},
   "outputs": [],
   "source": [
    "print(tup5[2:4])\n",
    "print(tup5[:5])\n",
    "print(tup5[3:])"
   ]
  },
  {
   "cell_type": "markdown",
   "id": "5578d073",
   "metadata": {},
   "source": [
    "## Write a Python program to reverse a tuple.\n"
   ]
  },
  {
   "cell_type": "code",
   "execution_count": null,
   "id": "81072d1c",
   "metadata": {},
   "outputs": [],
   "source": [
    "print(reversed(tup5))"
   ]
  }
 ],
 "metadata": {
  "kernelspec": {
   "display_name": "Python 3 (ipykernel)",
   "language": "python",
   "name": "python3"
  },
  "language_info": {
   "codemirror_mode": {
    "name": "ipython",
    "version": 3
   },
   "file_extension": ".py",
   "mimetype": "text/x-python",
   "name": "python",
   "nbconvert_exporter": "python",
   "pygments_lexer": "ipython3",
   "version": "3.8.12"
  }
 },
 "nbformat": 4,
 "nbformat_minor": 5
}
