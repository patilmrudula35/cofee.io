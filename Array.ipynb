{
 "cells": [
  {
   "cell_type": "markdown",
   "id": "60c729d0",
   "metadata": {},
   "source": [
    "## Write a Python program to create an array of 5 integers and display the array items. Access individual element through indexes."
   ]
  },
  {
   "cell_type": "code",
   "execution_count": 4,
   "id": "4ef43e30",
   "metadata": {},
   "outputs": [
    {
     "name": "stdout",
     "output_type": "stream",
     "text": [
      "11\n",
      "87\n",
      "95\n",
      "37\n",
      "90\n",
      "Access individual element through indexes\n",
      "11 87 95 37 90 "
     ]
    }
   ],
   "source": [
    "from array import *\n",
    "arr = array('i', [11,87,95,37,90])\n",
    "for i in arr:\n",
    "    print(i)\n",
    "print(\"Access individual element through indexes\")\n",
    "print(arr[0], end=\" \")\n",
    "print(arr[1], end=\" \")\n",
    "print(arr[2], end=\" \")\n",
    "print(arr[3], end=\" \")\n",
    "print(arr[4], end=\" \")\n"
   ]
  },
  {
   "cell_type": "markdown",
   "id": "f5304f93",
   "metadata": {},
   "source": [
    "## Write a Python program to reverse the order of the items in the array.\n"
   ]
  },
  {
   "cell_type": "code",
   "execution_count": 7,
   "id": "8b45ad5a",
   "metadata": {},
   "outputs": [
    {
     "name": "stdout",
     "output_type": "stream",
     "text": [
      "90 37 95 87 11 "
     ]
    }
   ],
   "source": [
    "arr.reverse()\n",
    "\n",
    "for i in arr:\n",
    "    print(i, end=' ')"
   ]
  },
  {
   "cell_type": "markdown",
   "id": "4ae749f9",
   "metadata": {},
   "source": [
    "## Write a Python program to get the number of occurrences of a specified element in an array"
   ]
  },
  {
   "cell_type": "code",
   "execution_count": 12,
   "id": "5fc5ff77",
   "metadata": {},
   "outputs": [
    {
     "name": "stdout",
     "output_type": "stream",
     "text": [
      "Occurence of 2 in above arrray: 5\n"
     ]
    }
   ],
   "source": [
    "arr1 = array('i', [1,2,2,2,3,4,2,2])\n",
    "\n",
    "print(\"Occurence of 2 in above arrray:\",arr1.count(2))"
   ]
  },
  {
   "cell_type": "markdown",
   "id": "0aea903e",
   "metadata": {},
   "source": [
    "##  Write a Python program to remove the first occurrence of a specified element from an array.\n"
   ]
  },
  {
   "cell_type": "code",
   "execution_count": 13,
   "id": "65d025de",
   "metadata": {},
   "outputs": [
    {
     "name": "stdout",
     "output_type": "stream",
     "text": [
      "1 2 2 3 4 2 2 "
     ]
    }
   ],
   "source": [
    "arr1.remove(2)\n",
    "\n",
    "for i in arr1:\n",
    "    print(i, end=' ')"
   ]
  }
 ],
 "metadata": {
  "kernelspec": {
   "display_name": "Python 3 (ipykernel)",
   "language": "python",
   "name": "python3"
  },
  "language_info": {
   "codemirror_mode": {
    "name": "ipython",
    "version": 3
   },
   "file_extension": ".py",
   "mimetype": "text/x-python",
   "name": "python",
   "nbconvert_exporter": "python",
   "pygments_lexer": "ipython3",
   "version": "3.8.12"
  }
 },
 "nbformat": 4,
 "nbformat_minor": 5
}
