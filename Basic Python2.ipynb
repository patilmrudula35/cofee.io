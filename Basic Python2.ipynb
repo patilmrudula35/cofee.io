{
 "cells": [
  {
   "cell_type": "markdown",
   "id": "bf1774c0",
   "metadata": {},
   "source": [
    "##  Program to reverse first and last name"
   ]
  },
  {
   "cell_type": "code",
   "execution_count": 15,
   "id": "00d8c1c0",
   "metadata": {},
   "outputs": [
    {
     "name": "stdout",
     "output_type": "stream",
     "text": [
      "Enter your first name\tMrudula \n",
      "Enter your last name\tPatil\n",
      "Patil \t Mrudula \n"
     ]
    }
   ],
   "source": [
    "\n",
    "FN=input('Enter your first name\\t' )\n",
    "LN=input('Enter your last name\\t')\n",
    "print(LN,\"\\t\",FN)\n"
   ]
  },
  {
   "cell_type": "markdown",
   "id": "0f6bce7f",
   "metadata": {},
   "source": [
    "## Python program to display first and last color in given list"
   ]
  },
  {
   "cell_type": "code",
   "execution_count": 16,
   "id": "4a59710c",
   "metadata": {},
   "outputs": [
    {
     "name": "stdout",
     "output_type": "stream",
     "text": [
      "Red\n",
      "Black\n"
     ]
    }
   ],
   "source": [
    "color_list = [\"Red\",\"Green\",\"White\" ,\"Black\"]\n",
    "print(color_list[0])\n",
    "print(color_list[3])"
   ]
  },
  {
   "cell_type": "markdown",
   "id": "c3d8c5e2",
   "metadata": {},
   "source": [
    "## To print list and tuple"
   ]
  },
  {
   "cell_type": "code",
   "execution_count": 18,
   "id": "bffa7850",
   "metadata": {},
   "outputs": [
    {
     "name": "stdout",
     "output_type": "stream",
     "text": [
      "[3, 5, 7, 23]\n",
      "(3, 5, 7, 23)\n"
     ]
    }
   ],
   "source": [
    "lst=[ 3, 5, 7, 23]\n",
    "print(lst)\n",
    "tpl=tuple(lst)\n",
    "print(tpl)"
   ]
  },
  {
   "cell_type": "markdown",
   "id": "73aa65d5",
   "metadata": {},
   "source": [
    "## To find absolute value using abs() function"
   ]
  },
  {
   "cell_type": "code",
   "execution_count": 21,
   "id": "d3763fea",
   "metadata": {},
   "outputs": [
    {
     "name": "stdout",
     "output_type": "stream",
     "text": [
      "Enter number\t-5\n",
      "Absolute value of number is 5\n"
     ]
    }
   ],
   "source": [
    "num=int(input(\"Enter number\\t\"))\n",
    "anum=abs(num)\n",
    "print(\"Absolute value of number is\" , str(anum))"
   ]
  },
  {
   "cell_type": "markdown",
   "id": "1cc126e1",
   "metadata": {},
   "source": [
    "## Program to print files"
   ]
  },
  {
   "cell_type": "code",
   "execution_count": 7,
   "id": "c53a5cfb",
   "metadata": {},
   "outputs": [
    {
     "name": "stdout",
     "output_type": "stream",
     "text": [
      "['sample.txt']\n"
     ]
    }
   ],
   "source": [
    "import glob\n",
    "import os\n",
    "file = glob.glob('*.txt')\n",
    "file.sort(key=os.path.getmtime)\n",
    "print(file)"
   ]
  },
  {
   "cell_type": "markdown",
   "id": "6f2de0c8",
   "metadata": {},
   "source": [
    "## Program to print month and year"
   ]
  },
  {
   "cell_type": "code",
   "execution_count": 8,
   "id": "645ffc83",
   "metadata": {},
   "outputs": [
    {
     "name": "stdout",
     "output_type": "stream",
     "text": [
      "Enter the year:2002\n",
      "Enter the month: 3\n",
      "     March 2002\n",
      "Mo Tu We Th Fr Sa Su\n",
      "             1  2  3\n",
      " 4  5  6  7  8  9 10\n",
      "11 12 13 14 15 16 17\n",
      "18 19 20 21 22 23 24\n",
      "25 26 27 28 29 30 31\n",
      "\n"
     ]
    }
   ],
   "source": [
    "import calendar\n",
    "year= int(input(\"Enter the year:\"))\n",
    "month = int(input(\"Enter the month: \"))\n",
    "print(calendar.month(year, month))"
   ]
  },
  {
   "cell_type": "markdown",
   "id": "b00681a1",
   "metadata": {},
   "source": [
    "\n",
    "##  Python program to calculate number of days between two dates."
   ]
  },
  {
   "cell_type": "code",
   "execution_count": 4,
   "id": "c43a777b",
   "metadata": {},
   "outputs": [
    {
     "name": "stdout",
     "output_type": "stream",
     "text": [
      "No of between two days is 9 days, 0:00:00\n"
     ]
    }
   ],
   "source": [
    "from datetime import date\n",
    "\n",
    "date1 = date(2014, 7, 2)\n",
    "date2 = date(2014, 7, 11)\n",
    "days = date2-date1\n",
    "print(\"No of between two days is\", days)"
   ]
  },
  {
   "cell_type": "code",
   "execution_count": null,
   "id": "b36f6cc2",
   "metadata": {},
   "outputs": [],
   "source": []
  }
 ],
 "metadata": {
  "kernelspec": {
   "display_name": "Python 3 (ipykernel)",
   "language": "python",
   "name": "python3"
  },
  "language_info": {
   "codemirror_mode": {
    "name": "ipython",
    "version": 3
   },
   "file_extension": ".py",
   "mimetype": "text/x-python",
   "name": "python",
   "nbconvert_exporter": "python",
   "pygments_lexer": "ipython3",
   "version": "3.9.12"
  }
 },
 "nbformat": 4,
 "nbformat_minor": 5
}
