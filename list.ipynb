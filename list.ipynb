{
 "cells": [
  {
   "cell_type": "markdown",
   "id": "d6ce1fa3",
   "metadata": {},
   "source": [
    "## Write a Python program to sum all the items in a list.\n"
   ]
  },
  {
   "cell_type": "code",
   "execution_count": 1,
   "id": "542794d2",
   "metadata": {},
   "outputs": [
    {
     "name": "stdout",
     "output_type": "stream",
     "text": [
      "15\n"
     ]
    }
   ],
   "source": [
    "l = [1, 2, 3, 4, 5]\n",
    "s = 0\n",
    "\n",
    "for i in l:\n",
    "    s = s + i\n",
    "    \n",
    "print(s)"
   ]
  },
  {
   "cell_type": "markdown",
   "id": "cb10edc3",
   "metadata": {},
   "source": [
    "## Write a Python program to multiplies all the items in a list."
   ]
  },
  {
   "cell_type": "code",
   "execution_count": 2,
   "id": "b3db6e9e",
   "metadata": {},
   "outputs": [
    {
     "name": "stdout",
     "output_type": "stream",
     "text": [
      "120\n"
     ]
    }
   ],
   "source": [
    "l = [1, 2, 3, 4, 5]\n",
    "mult = 1\n",
    "\n",
    "for i in l:\n",
    "    mult = mult * i\n",
    "    \n",
    "print(mult)"
   ]
  },
  {
   "cell_type": "markdown",
   "id": "11953b81",
   "metadata": {},
   "source": [
    "## Write a Python program to get the smallest number from a list.\n"
   ]
  },
  {
   "cell_type": "code",
   "execution_count": 3,
   "id": "78a7b1a7",
   "metadata": {},
   "outputs": [
    {
     "name": "stdout",
     "output_type": "stream",
     "text": [
      "11\n"
     ]
    }
   ],
   "source": [
    "l = [55, 22, 33, 11, 99]\n",
    "\n",
    "l.sort()\n",
    "\n",
    "print(l[0])"
   ]
  },
  {
   "cell_type": "markdown",
   "id": "93159f7d",
   "metadata": {},
   "source": [
    "## Write a Python program to count the number of strings where the string length is 2 or more and the first and last character are same from a given list of strings."
   ]
  },
  {
   "cell_type": "code",
   "execution_count": 8,
   "id": "4f56b2c0",
   "metadata": {},
   "outputs": [
    {
     "name": "stdout",
     "output_type": "stream",
     "text": [
      "3\n"
     ]
    }
   ],
   "source": [
    "l = ['xyx', '4764', 'afs', 'wew', 'dfg']\n",
    "counter = 0\n",
    "\n",
    "for i in l:\n",
    "    if len(i) > 1 and i[0] == i[-1]:\n",
    "        counter += 1\n",
    "        \n",
    "        \n",
    "print(counter)"
   ]
  },
  {
   "cell_type": "markdown",
   "id": "1b219cb6",
   "metadata": {},
   "source": [
    "## Write a Python program to get a list, sorted in increasing order by the last element in each tuple from a given list of non-empty tuples."
   ]
  },
  {
   "cell_type": "code",
   "execution_count": 9,
   "id": "0fc6c0e1",
   "metadata": {},
   "outputs": [
    {
     "name": "stdout",
     "output_type": "stream",
     "text": [
      "[(2, 1), (1, 2), (2, 3), (4, 4), (2, 5)]\n"
     ]
    }
   ],
   "source": [
    "def last(n): \n",
    "    return n[-1]\n",
    "\n",
    "def sort_list_last(tuples):\n",
    "  return sorted(tuples, key=last)\n",
    "\n",
    "print(sort_list_last([(2, 5), (1, 2), (4, 4), (2, 3), (2, 1)]))\n"
   ]
  },
  {
   "cell_type": "markdown",
   "id": "9cca2edf",
   "metadata": {},
   "source": [
    "## Write a Python program to remove duplicates from a list"
   ]
  },
  {
   "cell_type": "code",
   "execution_count": 12,
   "id": "be72b428",
   "metadata": {},
   "outputs": [
    {
     "name": "stdout",
     "output_type": "stream",
     "text": [
      "[1, 2, 3, 4, 5]\n"
     ]
    }
   ],
   "source": [
    "l = [1, 1, 2, 3, 4, 4, 5]\n",
    "s = set()\n",
    "\n",
    "for i in l:\n",
    "    if i in s:\n",
    "        l.remove(i)\n",
    "    else:\n",
    "        s.add(i)\n",
    "        \n",
    "        \n",
    "print(l)"
   ]
  },
  {
   "cell_type": "markdown",
   "id": "d8f5b706",
   "metadata": {},
   "source": [
    "## Write a Python program to clone or copy a list."
   ]
  },
  {
   "cell_type": "code",
   "execution_count": 13,
   "id": "4eb38ac9",
   "metadata": {},
   "outputs": [
    {
     "name": "stdout",
     "output_type": "stream",
     "text": [
      "[1, 2, 3, 4, 5]\n"
     ]
    }
   ],
   "source": [
    "l = [1, 2, 3, 4, 5]\n",
    "clone = []\n",
    "\n",
    "for i in l:\n",
    "    clone.append(i)\n",
    "    \n",
    "    \n",
    "print(clone)"
   ]
  },
  {
   "cell_type": "markdown",
   "id": "e76a3056",
   "metadata": {},
   "source": [
    "## Write a Python program to find the list of words that are longer than n from a given list of words."
   ]
  },
  {
   "cell_type": "code",
   "execution_count": 15,
   "id": "a45a788d",
   "metadata": {},
   "outputs": [
    {
     "name": "stdout",
     "output_type": "stream",
     "text": [
      "['afdsa', 'wrewq']\n"
     ]
    }
   ],
   "source": [
    "l = ['afdsa', 'afga', 'wrewq', 'sa', 'ew', 'iuy']\n",
    "w_list = []\n",
    "n = 4\n",
    "\n",
    "for i in l:\n",
    "    if len(i) > n:\n",
    "        w_list.append(i)\n",
    "        \n",
    "print(w_list)"
   ]
  },
  {
   "cell_type": "markdown",
   "id": "c1e0133a",
   "metadata": {},
   "source": [
    "## Write a Python function that takes two lists and returns True if they have at least one common member.\n"
   ]
  },
  {
   "cell_type": "code",
   "execution_count": 17,
   "id": "0c47fb50",
   "metadata": {},
   "outputs": [
    {
     "name": "stdout",
     "output_type": "stream",
     "text": [
      "True\n"
     ]
    }
   ],
   "source": [
    "l1 = [1, 2, 3, 4]\n",
    "l2 = [4, 5, 6, 7]\n",
    "\n",
    "for i in l1:\n",
    "    for j in l2:\n",
    "        if i == j:\n",
    "            print(True)"
   ]
  },
  {
   "cell_type": "markdown",
   "id": "f91a4365",
   "metadata": {},
   "source": [
    "## Write a Python program to print a specified list after removing the 0th, 4th and 5th elements."
   ]
  },
  {
   "cell_type": "code",
   "execution_count": 20,
   "id": "e3cb35f0",
   "metadata": {},
   "outputs": [
    {
     "name": "stdout",
     "output_type": "stream",
     "text": [
      "['first', 'second', 'third', 'sixth']\n"
     ]
    }
   ],
   "source": [
    "l = ['zeroth', 'first', 'second', 'third', 'fouth', 'fifth', 'sixth']\n",
    "\n",
    "l.remove(l[0])\n",
    "l.remove(l[3])\n",
    "l.remove(l[3])\n",
    "\n",
    "print(l)"
   ]
  },
  {
   "cell_type": "markdown",
   "id": "98c9c2e3",
   "metadata": {},
   "source": [
    "## Write a Python program to generate all permutations of a list in Python."
   ]
  },
  {
   "cell_type": "code",
   "execution_count": 23,
   "id": "657e6eae",
   "metadata": {},
   "outputs": [
    {
     "name": "stdout",
     "output_type": "stream",
     "text": [
      "[(7, 8, 9), (7, 9, 8), (8, 7, 9), (8, 9, 7), (9, 7, 8), (9, 8, 7)]\n"
     ]
    }
   ],
   "source": [
    "import itertools\n",
    "\n",
    "perm = list(itertools.permutations([7, 8, 9]))\n",
    "\n",
    "print(perm)"
   ]
  },
  {
   "cell_type": "markdown",
   "id": "34bef431",
   "metadata": {},
   "source": [
    "## Write a Python program to get the difference between the two lists."
   ]
  },
  {
   "cell_type": "code",
   "execution_count": 24,
   "id": "22e5d1f0",
   "metadata": {},
   "outputs": [
    {
     "name": "stdout",
     "output_type": "stream",
     "text": [
      "[1, 2, 5, 8, 6, 7]\n"
     ]
    }
   ],
   "source": [
    "l1 = [1, 2, 3, 4, 5]\n",
    "l2 = [3, 4, 6, 7, 8]\n",
    "\n",
    "diff1 = list(set(l1)-set(l2))\n",
    "diff2 = list(set(l2)-set(l1))\n",
    "\n",
    "diff = diff1 + diff2\n",
    "\n",
    "print(diff)"
   ]
  },
  {
   "cell_type": "markdown",
   "id": "4374baec",
   "metadata": {},
   "source": [
    "## Write a Python program to append a list to the second list."
   ]
  },
  {
   "cell_type": "code",
   "execution_count": 25,
   "id": "e96b0887",
   "metadata": {},
   "outputs": [
    {
     "name": "stdout",
     "output_type": "stream",
     "text": [
      "[1, 2, 3, 4, 5, 6, 7, 8, 9, 10]\n"
     ]
    }
   ],
   "source": [
    "l1 = [1, 2, 3, 4, 5]\n",
    "l2 = [6, 7, 8, 9, 10]\n",
    "\n",
    "l = l1 + l2\n",
    "\n",
    "print(l)"
   ]
  },
  {
   "cell_type": "markdown",
   "id": "ca104ffc",
   "metadata": {},
   "source": [
    "## Write a python program to check whether two lists are circularly identical.\n"
   ]
  },
  {
   "cell_type": "code",
   "execution_count": 29,
   "id": "cbfa6e42",
   "metadata": {},
   "outputs": [
    {
     "name": "stdout",
     "output_type": "stream",
     "text": [
      "True\n"
     ]
    }
   ],
   "source": [
    "l1 = [2, 1, 1, 2]\n",
    "l2 = [1, 1, 2, 2]\n",
    "\n",
    "print(' '.join(map(str, l2)) in ' '.join(map(str, l1 * 2)))\n"
   ]
  },
  {
   "cell_type": "markdown",
   "id": "7dbea200",
   "metadata": {},
   "source": [
    "## Write a Python program to find common items from two lists."
   ]
  },
  {
   "cell_type": "code",
   "execution_count": 31,
   "id": "6ec57a09",
   "metadata": {},
   "outputs": [
    {
     "name": "stdout",
     "output_type": "stream",
     "text": [
      "[3, 4, 5]\n"
     ]
    }
   ],
   "source": [
    "l1 = [1, 2, 3, 4, 5]\n",
    "l2 = [3, 4, 5, 6, 7]\n",
    "comm = []\n",
    "\n",
    "for i in l1:\n",
    "    for j in l2:\n",
    "        if i == j:\n",
    "            comm.append(i)\n",
    "            \n",
    "            \n",
    "print(comm)"
   ]
  },
  {
   "cell_type": "markdown",
   "id": "badacd30",
   "metadata": {},
   "source": [
    "## Write a Python program to split a list based on first character of word.\n"
   ]
  },
  {
   "cell_type": "code",
   "execution_count": 32,
   "id": "c97654e5",
   "metadata": {},
   "outputs": [
    {
     "name": "stdout",
     "output_type": "stream",
     "text": [
      "a\n",
      "ask\n",
      "b\n",
      "be\n",
      "c\n",
      "call\n",
      "come\n",
      "d\n",
      "do\n",
      "f\n",
      "feel\n",
      "find\n",
      "g\n",
      "get\n",
      "give\n",
      "go\n",
      "h\n",
      "have\n",
      "k\n",
      "know\n",
      "l\n",
      "leave\n",
      "look\n",
      "m\n",
      "make\n",
      "s\n",
      "say\n",
      "see\n",
      "seem\n",
      "t\n",
      "take\n",
      "tell\n",
      "think\n",
      "u\n",
      "use\n",
      "w\n",
      "want\n",
      "work\n"
     ]
    }
   ],
   "source": [
    "from itertools import groupby\n",
    "from operator import itemgetter\n",
    "\n",
    "word_list = ['be','have','do','say','get','make','go','know','take','see','come','think',\n",
    "     'look','want','give','use','find','tell','ask','work','seem','feel','leave','call']\n",
    "\n",
    "for letter, words in groupby(sorted(word_list), key=itemgetter(0)):\n",
    "    print(letter)\n",
    "    for word in words:\n",
    "        print(word)"
   ]
  },
  {
   "cell_type": "markdown",
   "id": "857dd33a",
   "metadata": {},
   "source": [
    "## Write a Python program to remove duplicates from a list of lists."
   ]
  },
  {
   "cell_type": "code",
   "execution_count": 33,
   "id": "623a7b3a",
   "metadata": {},
   "outputs": [
    {
     "name": "stdout",
     "output_type": "stream",
     "text": [
      "Original List [[10, 20], [40], [30, 56, 25], [10, 20], [33], [40]]\n",
      "New List [[10, 20], [30, 56, 25], [33], [40]]\n"
     ]
    }
   ],
   "source": [
    "import itertools\n",
    "num = [[10, 20], [40], [30, 56, 25], [10, 20], [33], [40]]\n",
    "print(\"Original List\", num)\n",
    "num.sort()\n",
    "new_num = list(num for num,_ in itertools.groupby(num))\n",
    "print(\"New List\", new_num)"
   ]
  }
 ],
 "metadata": {
  "kernelspec": {
   "display_name": "Python 3 (ipykernel)",
   "language": "python",
   "name": "python3"
  },
  "language_info": {
   "codemirror_mode": {
    "name": "ipython",
    "version": 3
   },
   "file_extension": ".py",
   "mimetype": "text/x-python",
   "name": "python",
   "nbconvert_exporter": "python",
   "pygments_lexer": "ipython3",
   "version": "3.8.12"
  }
 },
 "nbformat": 4,
 "nbformat_minor": 5
}
